{
  "nbformat": 4,
  "nbformat_minor": 0,
  "metadata": {
    "colab": {
      "provenance": []
    },
    "kernelspec": {
      "name": "python3",
      "display_name": "Python 3"
    },
    "language_info": {
      "name": "python"
    }
  },
  "cells": [
    {
      "cell_type": "code",
      "execution_count": null,
      "metadata": {
        "id": "SRrPi8LfLLw9"
      },
      "outputs": [],
      "source": [
        "import numpy as np\n",
        "import pandas as pd\n",
        "\n",
        "df = pd.read_csv(\"/content/2022-AQI-CSV.csv\")"
      ]
    },
    {
      "cell_type": "code",
      "source": [
        "df.head()"
      ],
      "metadata": {
        "colab": {
          "base_uri": "https://localhost:8080/",
          "height": 704
        },
        "id": "fLy7q4BPO6HS",
        "outputId": "291e01f9-ffc8-428f-a824-0d330866319e"
      },
      "execution_count": null,
      "outputs": [
        {
          "output_type": "execute_result",
          "data": {
            "text/plain": [
              "         state    city                             station        date  PM2.5  \\\n",
              "0  Maharashtra  Nagpur  Opp GPO Civil Lines, Nagpur - MPCB  01-01-2022  30.98   \n",
              "1  Maharashtra  Nagpur  Opp GPO Civil Lines, Nagpur - MPCB  02-01-2022  36.16   \n",
              "2  Maharashtra  Nagpur  Opp GPO Civil Lines, Nagpur - MPCB  03-01-2022  31.49   \n",
              "3  Maharashtra  Nagpur  Opp GPO Civil Lines, Nagpur - MPCB  04-01-2022  40.27   \n",
              "4  Maharashtra  Nagpur  Opp GPO Civil Lines, Nagpur - MPCB  05-01-2022  31.82   \n",
              "\n",
              "    PM10    NO2   NH3    S02    CO  OZONE  AQI Predominant_Parameter  \n",
              "0  73.00  27.23  5.06  12.61  2.08  50.65  101                    CO  \n",
              "1  81.03  27.25  5.26  15.61  2.01  50.68  100                    CO  \n",
              "2  76.44  27.09  5.09  12.43  2.03  50.73  100                    CO  \n",
              "3  83.56  27.32  5.21  12.97  2.40  50.41  105                    CO  \n",
              "4  80.94  27.26  5.31  16.83  2.69  50.62  109                    CO  "
            ],
            "text/html": [
              "\n",
              "  <div id=\"df-abac8865-77b0-425e-a83f-e13b3c21ced4\">\n",
              "    <div class=\"colab-df-container\">\n",
              "      <div>\n",
              "<style scoped>\n",
              "    .dataframe tbody tr th:only-of-type {\n",
              "        vertical-align: middle;\n",
              "    }\n",
              "\n",
              "    .dataframe tbody tr th {\n",
              "        vertical-align: top;\n",
              "    }\n",
              "\n",
              "    .dataframe thead th {\n",
              "        text-align: right;\n",
              "    }\n",
              "</style>\n",
              "<table border=\"1\" class=\"dataframe\">\n",
              "  <thead>\n",
              "    <tr style=\"text-align: right;\">\n",
              "      <th></th>\n",
              "      <th>state</th>\n",
              "      <th>city</th>\n",
              "      <th>station</th>\n",
              "      <th>date</th>\n",
              "      <th>PM2.5</th>\n",
              "      <th>PM10</th>\n",
              "      <th>NO2</th>\n",
              "      <th>NH3</th>\n",
              "      <th>S02</th>\n",
              "      <th>CO</th>\n",
              "      <th>OZONE</th>\n",
              "      <th>AQI</th>\n",
              "      <th>Predominant_Parameter</th>\n",
              "    </tr>\n",
              "  </thead>\n",
              "  <tbody>\n",
              "    <tr>\n",
              "      <th>0</th>\n",
              "      <td>Maharashtra</td>\n",
              "      <td>Nagpur</td>\n",
              "      <td>Opp GPO Civil Lines, Nagpur - MPCB</td>\n",
              "      <td>01-01-2022</td>\n",
              "      <td>30.98</td>\n",
              "      <td>73.00</td>\n",
              "      <td>27.23</td>\n",
              "      <td>5.06</td>\n",
              "      <td>12.61</td>\n",
              "      <td>2.08</td>\n",
              "      <td>50.65</td>\n",
              "      <td>101</td>\n",
              "      <td>CO</td>\n",
              "    </tr>\n",
              "    <tr>\n",
              "      <th>1</th>\n",
              "      <td>Maharashtra</td>\n",
              "      <td>Nagpur</td>\n",
              "      <td>Opp GPO Civil Lines, Nagpur - MPCB</td>\n",
              "      <td>02-01-2022</td>\n",
              "      <td>36.16</td>\n",
              "      <td>81.03</td>\n",
              "      <td>27.25</td>\n",
              "      <td>5.26</td>\n",
              "      <td>15.61</td>\n",
              "      <td>2.01</td>\n",
              "      <td>50.68</td>\n",
              "      <td>100</td>\n",
              "      <td>CO</td>\n",
              "    </tr>\n",
              "    <tr>\n",
              "      <th>2</th>\n",
              "      <td>Maharashtra</td>\n",
              "      <td>Nagpur</td>\n",
              "      <td>Opp GPO Civil Lines, Nagpur - MPCB</td>\n",
              "      <td>03-01-2022</td>\n",
              "      <td>31.49</td>\n",
              "      <td>76.44</td>\n",
              "      <td>27.09</td>\n",
              "      <td>5.09</td>\n",
              "      <td>12.43</td>\n",
              "      <td>2.03</td>\n",
              "      <td>50.73</td>\n",
              "      <td>100</td>\n",
              "      <td>CO</td>\n",
              "    </tr>\n",
              "    <tr>\n",
              "      <th>3</th>\n",
              "      <td>Maharashtra</td>\n",
              "      <td>Nagpur</td>\n",
              "      <td>Opp GPO Civil Lines, Nagpur - MPCB</td>\n",
              "      <td>04-01-2022</td>\n",
              "      <td>40.27</td>\n",
              "      <td>83.56</td>\n",
              "      <td>27.32</td>\n",
              "      <td>5.21</td>\n",
              "      <td>12.97</td>\n",
              "      <td>2.40</td>\n",
              "      <td>50.41</td>\n",
              "      <td>105</td>\n",
              "      <td>CO</td>\n",
              "    </tr>\n",
              "    <tr>\n",
              "      <th>4</th>\n",
              "      <td>Maharashtra</td>\n",
              "      <td>Nagpur</td>\n",
              "      <td>Opp GPO Civil Lines, Nagpur - MPCB</td>\n",
              "      <td>05-01-2022</td>\n",
              "      <td>31.82</td>\n",
              "      <td>80.94</td>\n",
              "      <td>27.26</td>\n",
              "      <td>5.31</td>\n",
              "      <td>16.83</td>\n",
              "      <td>2.69</td>\n",
              "      <td>50.62</td>\n",
              "      <td>109</td>\n",
              "      <td>CO</td>\n",
              "    </tr>\n",
              "  </tbody>\n",
              "</table>\n",
              "</div>\n",
              "      <button class=\"colab-df-convert\" onclick=\"convertToInteractive('df-abac8865-77b0-425e-a83f-e13b3c21ced4')\"\n",
              "              title=\"Convert this dataframe to an interactive table.\"\n",
              "              style=\"display:none;\">\n",
              "        \n",
              "  <svg xmlns=\"http://www.w3.org/2000/svg\" height=\"24px\"viewBox=\"0 0 24 24\"\n",
              "       width=\"24px\">\n",
              "    <path d=\"M0 0h24v24H0V0z\" fill=\"none\"/>\n",
              "    <path d=\"M18.56 5.44l.94 2.06.94-2.06 2.06-.94-2.06-.94-.94-2.06-.94 2.06-2.06.94zm-11 1L8.5 8.5l.94-2.06 2.06-.94-2.06-.94L8.5 2.5l-.94 2.06-2.06.94zm10 10l.94 2.06.94-2.06 2.06-.94-2.06-.94-.94-2.06-.94 2.06-2.06.94z\"/><path d=\"M17.41 7.96l-1.37-1.37c-.4-.4-.92-.59-1.43-.59-.52 0-1.04.2-1.43.59L10.3 9.45l-7.72 7.72c-.78.78-.78 2.05 0 2.83L4 21.41c.39.39.9.59 1.41.59.51 0 1.02-.2 1.41-.59l7.78-7.78 2.81-2.81c.8-.78.8-2.07 0-2.86zM5.41 20L4 18.59l7.72-7.72 1.47 1.35L5.41 20z\"/>\n",
              "  </svg>\n",
              "      </button>\n",
              "      \n",
              "  <style>\n",
              "    .colab-df-container {\n",
              "      display:flex;\n",
              "      flex-wrap:wrap;\n",
              "      gap: 12px;\n",
              "    }\n",
              "\n",
              "    .colab-df-convert {\n",
              "      background-color: #E8F0FE;\n",
              "      border: none;\n",
              "      border-radius: 50%;\n",
              "      cursor: pointer;\n",
              "      display: none;\n",
              "      fill: #1967D2;\n",
              "      height: 32px;\n",
              "      padding: 0 0 0 0;\n",
              "      width: 32px;\n",
              "    }\n",
              "\n",
              "    .colab-df-convert:hover {\n",
              "      background-color: #E2EBFA;\n",
              "      box-shadow: 0px 1px 2px rgba(60, 64, 67, 0.3), 0px 1px 3px 1px rgba(60, 64, 67, 0.15);\n",
              "      fill: #174EA6;\n",
              "    }\n",
              "\n",
              "    [theme=dark] .colab-df-convert {\n",
              "      background-color: #3B4455;\n",
              "      fill: #D2E3FC;\n",
              "    }\n",
              "\n",
              "    [theme=dark] .colab-df-convert:hover {\n",
              "      background-color: #434B5C;\n",
              "      box-shadow: 0px 1px 3px 1px rgba(0, 0, 0, 0.15);\n",
              "      filter: drop-shadow(0px 1px 2px rgba(0, 0, 0, 0.3));\n",
              "      fill: #FFFFFF;\n",
              "    }\n",
              "  </style>\n",
              "\n",
              "      <script>\n",
              "        const buttonEl =\n",
              "          document.querySelector('#df-abac8865-77b0-425e-a83f-e13b3c21ced4 button.colab-df-convert');\n",
              "        buttonEl.style.display =\n",
              "          google.colab.kernel.accessAllowed ? 'block' : 'none';\n",
              "\n",
              "        async function convertToInteractive(key) {\n",
              "          const element = document.querySelector('#df-abac8865-77b0-425e-a83f-e13b3c21ced4');\n",
              "          const dataTable =\n",
              "            await google.colab.kernel.invokeFunction('convertToInteractive',\n",
              "                                                     [key], {});\n",
              "          if (!dataTable) return;\n",
              "\n",
              "          const docLinkHtml = 'Like what you see? Visit the ' +\n",
              "            '<a target=\"_blank\" href=https://colab.research.google.com/notebooks/data_table.ipynb>data table notebook</a>'\n",
              "            + ' to learn more about interactive tables.';\n",
              "          element.innerHTML = '';\n",
              "          dataTable['output_type'] = 'display_data';\n",
              "          await google.colab.output.renderOutput(dataTable, element);\n",
              "          const docLink = document.createElement('div');\n",
              "          docLink.innerHTML = docLinkHtml;\n",
              "          element.appendChild(docLink);\n",
              "        }\n",
              "      </script>\n",
              "    </div>\n",
              "  </div>\n",
              "  "
            ]
          },
          "metadata": {},
          "execution_count": 154
        }
      ]
    },
    {
      "cell_type": "code",
      "source": [
        "x1 = df.iloc[:,:11].values\n",
        "z1 = pd.DataFrame(x1)\n",
        "\n",
        "y1 = df.iloc[:,11:12].values\n",
        "z2 = pd.DataFrame(y1)"
      ],
      "metadata": {
        "id": "hnGfm8TJLrx_"
      },
      "execution_count": null,
      "outputs": []
    },
    {
      "cell_type": "code",
      "source": [
        "from sklearn.preprocessing import OneHotEncoder\n",
        "\n",
        "ohe = OneHotEncoder()\n",
        "x_new1 = pd.DataFrame(ohe.fit_transform(x1[:,[0]]).toarray()) \n",
        "x_new2 = pd.DataFrame(ohe.fit_transform(x1[:,[1]]).toarray()) \n",
        "x_new3 = pd.DataFrame(ohe.fit_transform(x1[:,[2]]).toarray()) \n",
        "\n",
        "feature_set = pd.concat([x_new1,x_new2,x_new3,pd.DataFrame(x1[:,5:12])],axis=1,sort=False)\n"
      ],
      "metadata": {
        "id": "qs9hJ2BsLwSx"
      },
      "execution_count": null,
      "outputs": []
    },
    {
      "cell_type": "code",
      "source": [
        "# importing ml libraries\n",
        "from sklearn.model_selection import train_test_split\n",
        "from sklearn.linear_model import LinearRegression\n",
        "from sklearn.preprocessing import PolynomialFeatures\n",
        "from sklearn.tree import DecisionTreeRegressor\n",
        "from sklearn.ensemble import RandomForestRegressor\n",
        "from sklearn.svm import SVR\n"
      ],
      "metadata": {
        "id": "kYCucKvKL1Ar"
      },
      "execution_count": null,
      "outputs": []
    },
    {
      "cell_type": "code",
      "source": [
        "x_train,x_test,y_train,y_test = train_test_split(feature_set,y1,test_size=0.25,random_state=0)\n"
      ],
      "metadata": {
        "id": "46J6YYXQL2kH"
      },
      "execution_count": null,
      "outputs": []
    },
    {
      "cell_type": "code",
      "source": [
        "print(y_test.shape)"
      ],
      "metadata": {
        "colab": {
          "base_uri": "https://localhost:8080/"
        },
        "id": "HlqymRTWy8fQ",
        "outputId": "ec4a4a34-e288-475f-95c7-ca2f571aec05"
      },
      "execution_count": null,
      "outputs": [
        {
          "output_type": "stream",
          "name": "stdout",
          "text": [
            "(75, 1)\n"
          ]
        }
      ]
    },
    {
      "cell_type": "code",
      "source": [
        "\n",
        "reg = LinearRegression()\n",
        "reg.fit(x_train,y_train)\n",
        "\n",
        "mlr_y_predict = reg.predict(x_test)\n"
      ],
      "metadata": {
        "id": "Vecq3_6QL8Wi"
      },
      "execution_count": null,
      "outputs": []
    },
    {
      "cell_type": "code",
      "source": [
        "print(mlr_y_predict.shape)"
      ],
      "metadata": {
        "colab": {
          "base_uri": "https://localhost:8080/"
        },
        "id": "bscmTDVCzVZr",
        "outputId": "1068636a-3d97-4483-dd45-5b367995db7e"
      },
      "execution_count": null,
      "outputs": [
        {
          "output_type": "stream",
          "name": "stdout",
          "text": [
            "(75, 1)\n"
          ]
        }
      ]
    },
    {
      "cell_type": "code",
      "source": [
        "from math import sqrt\n",
        "from sklearn import metrics\n",
        "\n",
        "def rmsle(real, predicted):\n",
        "    sum=0.0\n",
        "    for x in range(len(predicted)):\n",
        "        if predicted[x]<0 or real[x]<0:\n",
        "            continue\n",
        "        p = np.log(predicted[x]+1)\n",
        "        r = np.log(real[x]+1)\n",
        "        sum = sum + (p - r)**2\n",
        "    return ((sum/len(predicted))**0.5)[0]\n"
      ],
      "metadata": {
        "id": "WLFaLbfLPTDi"
      },
      "execution_count": null,
      "outputs": []
    },
    {
      "cell_type": "code",
      "source": [
        "\n",
        "rmse_mlr = sqrt(metrics.mean_squared_error(y_test, mlr_y_predict))\n",
        "mae_mlr = metrics.mean_absolute_error(y_test, mlr_y_predict)\n",
        "r2_mlr = metrics.r2_score(y_test,mlr_y_predict)\n",
        "rmsle_mlr = rmsle(y_test,mlr_y_predict)"
      ],
      "metadata": {
        "id": "E83L7V-2P1Ui"
      },
      "execution_count": null,
      "outputs": []
    },
    {
      "cell_type": "code",
      "source": [
        "print(rmse_mlr)\n",
        "print(mae_mlr)\n",
        "print(r2_mlr)\n",
        "print(rmsle_mlr)"
      ],
      "metadata": {
        "colab": {
          "base_uri": "https://localhost:8080/"
        },
        "id": "4U6w_c85PU4x",
        "outputId": "a69afd3d-744f-4cab-b9b2-5ea701b67bfd"
      },
      "execution_count": null,
      "outputs": [
        {
          "output_type": "stream",
          "name": "stdout",
          "text": [
            "22.174445063597457\n",
            "11.655210886508137\n",
            "0.7963740247116301\n",
            "0.17628830382932387\n"
          ]
        }
      ]
    },
    {
      "cell_type": "code",
      "source": [
        "poly_reg = PolynomialFeatures(degree = 2)\n",
        "preg = LinearRegression()\n",
        "pf = poly_reg.fit_transform(x_train)\n",
        "preg.fit(pf,y_train)\n",
        "\n",
        "pr_y_predict = preg.predict(poly_reg.fit_transform(x_test))"
      ],
      "metadata": {
        "id": "ekzr8AJ5P9g4"
      },
      "execution_count": null,
      "outputs": []
    },
    {
      "cell_type": "code",
      "source": [
        "\n",
        "rmse_pr2 = sqrt(metrics.mean_squared_error(y_test, pr_y_predict))\n",
        "mae_pr2 = metrics.mean_absolute_error(y_test, pr_y_predict)\n",
        "r2_pr2 = metrics.r2_score(y_test,pr_y_predict)\n",
        "rmsle_pr2 = rmsle(y_test,pr_y_predict)"
      ],
      "metadata": {
        "id": "mO6ZiRbIPxb9"
      },
      "execution_count": null,
      "outputs": []
    },
    {
      "cell_type": "code",
      "source": [
        "print(rmsle_pr2)"
      ],
      "metadata": {
        "colab": {
          "base_uri": "https://localhost:8080/"
        },
        "id": "iDI00XZsQG4K",
        "outputId": "54e93803-1b77-4d83-ee3f-d9555b3276df"
      },
      "execution_count": null,
      "outputs": [
        {
          "output_type": "stream",
          "name": "stdout",
          "text": [
            "0.3185029864255608\n"
          ]
        }
      ]
    },
    {
      "cell_type": "code",
      "source": [
        "poly_reg = PolynomialFeatures(degree = 3)\n",
        "preg = LinearRegression()\n",
        "pf = poly_reg.fit_transform(x_train)\n",
        "preg.fit(pf,y_train)\n",
        "\n",
        "pr_y_predict = preg.predict(poly_reg.fit_transform(x_test))"
      ],
      "metadata": {
        "id": "RYPO51JeP3GL"
      },
      "execution_count": null,
      "outputs": []
    },
    {
      "cell_type": "code",
      "source": [
        "rmse_pr3 = sqrt(metrics.mean_squared_error(y_test, pr_y_predict))\n",
        "mae_pr3 = metrics.mean_absolute_error(y_test, pr_y_predict)\n",
        "r2_pr3 = metrics.r2_score(y_test,pr_y_predict)\n",
        "rmsle_pr3 = rmsle(y_test,pr_y_predict)"
      ],
      "metadata": {
        "id": "Uj2E8KZnP_NZ"
      },
      "execution_count": null,
      "outputs": []
    },
    {
      "cell_type": "code",
      "source": [
        "print(rmsle_pr3)"
      ],
      "metadata": {
        "colab": {
          "base_uri": "https://localhost:8080/"
        },
        "id": "14tDclvWQCIE",
        "outputId": "20c4247d-bb5c-4bc9-a4f4-9f6110331377"
      },
      "execution_count": null,
      "outputs": [
        {
          "output_type": "stream",
          "name": "stdout",
          "text": [
            "0.16397901203419835\n"
          ]
        }
      ]
    },
    {
      "cell_type": "code",
      "source": [
        "poly_reg = PolynomialFeatures(degree = 4)\n",
        "preg = LinearRegression()\n",
        "pf = poly_reg.fit_transform(x_train)\n",
        "preg.fit(pf,y_train)\n",
        "\n",
        "pr_y_predict = preg.predict(poly_reg.fit_transform(x_test))"
      ],
      "metadata": {
        "id": "zyYuITEphhfD"
      },
      "execution_count": null,
      "outputs": []
    },
    {
      "cell_type": "code",
      "source": [
        "rmse_pr4 = sqrt(metrics.mean_squared_error(y_test, pr_y_predict))\n",
        "mae_pr4 = metrics.mean_absolute_error(y_test, pr_y_predict)\n",
        "r2_pr4 = metrics.r2_score(y_test,pr_y_predict)\n",
        "rmsle_pr4 = rmsle(y_test,pr_y_predict)"
      ],
      "metadata": {
        "id": "DPB0Z3EPhjk3"
      },
      "execution_count": null,
      "outputs": []
    },
    {
      "cell_type": "code",
      "source": [
        "print(\"Evaluating polynomial regression with different degree:\\n\")\n",
        "print(\"Degree\\tR^2\\tRMSE\\tMAE\\tRMSLE\")\n",
        "print(\"2\\t{0:.2f}\\t{1:.2f}\\t{2:.3f}\\t{3:.4f}\".format(r2_pr2,rmse_pr2,mae_pr2,rmsle_pr2))\n",
        "print(\"3\\t{0:.2f}\\t{1:.2f}\\t{2:.3f}\\t{3:.4f}\".format(r2_pr3,rmse_pr3,mae_pr3,rmsle_pr3))\n",
        "print(\"4\\t{0:.2f}\\t{1:.2f}\\t{2:.3f}\\t{3:.4f}\".format(r2_pr4,rmse_pr4,mae_pr4,rmsle_pr4))\n"
      ],
      "metadata": {
        "colab": {
          "base_uri": "https://localhost:8080/"
        },
        "id": "RX0bMWvFgZwD",
        "outputId": "ce550f01-0855-44a8-d70f-54575ed2c760"
      },
      "execution_count": null,
      "outputs": [
        {
          "output_type": "stream",
          "name": "stdout",
          "text": [
            "Evaluating polynomial regression with different degree:\n",
            "\n",
            "Degree\tR^2\tRMSE\tMAE\tRMSLE\n",
            "2\t0.77\t23.53\t15.400\t0.3185\n",
            "3\t0.12\t45.99\t14.009\t0.1640\n",
            "4\t-449.44\t1042.93\t234.345\t0.7301\n"
          ]
        }
      ]
    },
    {
      "cell_type": "markdown",
      "source": [
        "Polynomial with degree 3 gives the best performance"
      ],
      "metadata": {
        "id": "7S5crWAVlOkS"
      }
    },
    {
      "cell_type": "code",
      "source": [
        "dec_tree = DecisionTreeRegressor(random_state = 2)\n",
        "dec_tree.fit(x_train,y_train)\n",
        "\n",
        "dt_y_predict = dec_tree.predict(x_test)       \n"
      ],
      "metadata": {
        "id": "LFn-jaYJQLKB"
      },
      "execution_count": null,
      "outputs": []
    },
    {
      "cell_type": "code",
      "source": [
        "from sklearn.metrics import f1_score\n",
        "rmse_dt2 = sqrt(metrics.mean_squared_error(y_test, dt_y_predict))\n",
        "mae_dt2 = metrics.mean_absolute_error(y_test, dt_y_predict)\n",
        "r2_dt2 = metrics.r2_score(y_test,dt_y_predict)\n",
        "rmsle_dt2 = rmsle(y_test,dt_y_predict)\n",
        "f1_scr2 = f1_score(y_test,dt_y_predict,average='micro')\n"
      ],
      "metadata": {
        "id": "H7EIVISkQSK-"
      },
      "execution_count": null,
      "outputs": []
    },
    {
      "cell_type": "code",
      "source": [
        "dec_tree = DecisionTreeRegressor(random_state = 3)\n",
        "dec_tree.fit(x_train,y_train)\n",
        "\n",
        "dt_y_predict = dec_tree.predict(x_test)       \n"
      ],
      "metadata": {
        "id": "qhbz0tJDiNfo"
      },
      "execution_count": null,
      "outputs": []
    },
    {
      "cell_type": "code",
      "source": [
        "from sklearn.metrics import f1_score\n",
        "rmse_dt3 = sqrt(metrics.mean_squared_error(y_test, dt_y_predict))\n",
        "mae_dt3 = metrics.mean_absolute_error(y_test, dt_y_predict)\n",
        "r2_dt3 = metrics.r2_score(y_test,dt_y_predict)\n",
        "rmsle_dt3 = rmsle(y_test,dt_y_predict)\n",
        "f1_scr3 = f1_score(y_test,dt_y_predict,average='micro')"
      ],
      "metadata": {
        "id": "bP8zXkKjiOX_"
      },
      "execution_count": null,
      "outputs": []
    },
    {
      "cell_type": "code",
      "source": [
        "dec_tree = DecisionTreeRegressor(random_state = 4)\n",
        "dec_tree.fit(x_train,y_train)\n",
        "\n",
        "dt_y_predict = dec_tree.predict(x_test)       \n"
      ],
      "metadata": {
        "id": "wEcat0l3i6wP"
      },
      "execution_count": null,
      "outputs": []
    },
    {
      "cell_type": "code",
      "source": [
        "from sklearn.metrics import f1_score\n",
        "rmse_dt4 = sqrt(metrics.mean_squared_error(y_test, dt_y_predict))\n",
        "mae_dt4 = metrics.mean_absolute_error(y_test, dt_y_predict)\n",
        "r2_dt4 = metrics.r2_score(y_test,dt_y_predict)\n",
        "rmsle_dt4 = rmsle(y_test,dt_y_predict)\n",
        "f1_scr4 = f1_score(y_test,dt_y_predict,average='micro')"
      ],
      "metadata": {
        "id": "M5wZH9sTi8XJ"
      },
      "execution_count": null,
      "outputs": []
    },
    {
      "cell_type": "code",
      "source": [
        "print(\"Evaluating decision tree with different random state:\\n\")\n",
        "print(\"random_state\\tR^2\\tRMSE\\tMAE\\tRMSLE\\tF1Score\")\n",
        "print(\"2\\t\\t{0:.4f}\\t{1:.4f}\\t{2:.4f}\\t{3:.4f}\\t{4:.4f}\".format(r2_dt2,rmse_dt2,mae_dt2,rmsle_dt2,f1_scr2))\n",
        "print(\"3\\t\\t{0:.4f}\\t{1:.4f}\\t{2:.4f}\\t{3:.4f}\\t{3:.4f}\".format(r2_dt3,rmse_dt3,mae_dt3,rmsle_dt3,f1_scr3))\n",
        "print(\"4\\t\\t{0:.4f}\\t{1:.4f}\\t{2:.4f}\\t{3:.4f}\\t{3:.4f}\".format(r2_dt4,rmse_dt4,mae_dt4,rmsle_dt4,f1_scr4))"
      ],
      "metadata": {
        "colab": {
          "base_uri": "https://localhost:8080/"
        },
        "id": "LzfEgBwSiUAI",
        "outputId": "f4c89449-c0af-4456-eed6-5d662c73aa98"
      },
      "execution_count": null,
      "outputs": [
        {
          "output_type": "stream",
          "name": "stdout",
          "text": [
            "Evaluating decision tree with different random state:\n",
            "\n",
            "random_state\tR^2\tRMSE\tMAE\tRMSLE\tF1Score\n",
            "2\t\t0.8659\t17.9981\t8.1467\t0.1502\t0.1200\n",
            "3\t\t0.8199\t20.8551\t9.2533\t0.1573\t0.1573\n",
            "4\t\t0.8309\t20.2076\t9.2267\t0.1580\t0.1580\n"
          ]
        }
      ]
    },
    {
      "cell_type": "markdown",
      "source": [
        "Decision Tree Randrom state 2 gives best performance"
      ],
      "metadata": {
        "id": "gjgawjc0luzQ"
      }
    },
    {
      "cell_type": "code",
      "source": [
        "\n",
        "rt_reg = RandomForestRegressor(n_estimators = 500, random_state = 2)\n",
        "rt_reg.fit(x_train,y_train.ravel())\n",
        "\n",
        "rt_y_predict = rt_reg.predict(x_test)"
      ],
      "metadata": {
        "id": "Dh_EOSPtszpk"
      },
      "execution_count": null,
      "outputs": []
    },
    {
      "cell_type": "code",
      "source": [
        "\n",
        "rmse_rt2 = sqrt(metrics.mean_squared_error(y_test, rt_y_predict))\n",
        "mae_rt2 = metrics.mean_absolute_error(y_test, rt_y_predict)\n",
        "r2_rt2 = metrics.r2_score(y_test,rt_y_predict)\n",
        "rmsle_rt2 = rmsle(y_test,rt_y_predict)"
      ],
      "metadata": {
        "id": "0rpXz4Omv2T6"
      },
      "execution_count": null,
      "outputs": []
    },
    {
      "cell_type": "code",
      "source": [
        "rt_reg = RandomForestRegressor(n_estimators = 500, random_state = 3)\n",
        "rt_reg.fit(x_train,y_train.ravel())\n",
        "\n",
        "rt_y_predict = rt_reg.predict(x_test)\n",
        "\n",
        "rmse_rt3 = sqrt(metrics.mean_squared_error(y_test, rt_y_predict))\n",
        "mae_rt3 = metrics.mean_absolute_error(y_test, rt_y_predict)\n",
        "r2_rt3 = metrics.r2_score(y_test,rt_y_predict)\n",
        "rmsle_rt3 = rmsle(y_test,rt_y_predict)\n"
      ],
      "metadata": {
        "id": "_qfhNW6gkBE0"
      },
      "execution_count": null,
      "outputs": []
    },
    {
      "cell_type": "code",
      "source": [
        "rt_reg = RandomForestRegressor(n_estimators = 500, random_state = 4)\n",
        "rt_reg.fit(x_train,y_train.ravel())\n",
        "\n",
        "rt_y_predict = rt_reg.predict(x_test)\n",
        "\n",
        "rmse_rt4 = sqrt(metrics.mean_squared_error(y_test, rt_y_predict))\n",
        "mae_rt4 = metrics.mean_absolute_error(y_test, rt_y_predict)\n",
        "r2_rt4 = metrics.r2_score(y_test,rt_y_predict)\n",
        "rmsle_rt4 = rmsle(y_test,rt_y_predict)\n"
      ],
      "metadata": {
        "id": "SvcF3Fd0kEP_"
      },
      "execution_count": null,
      "outputs": []
    },
    {
      "cell_type": "code",
      "source": [
        "print(\"Evaluating Random forest with different random state:\\n\")\n",
        "print(\"random_state\\tR^2\\tRMSE\\tMAE\\tRMSLE\")\n",
        "print(\"2\\t\\t{0:.4f}\\t{1:.4f}\\t{2:.4f}\\t{3:.4f}\".format(r2_rt2,rmse_rt2,mae_rt2,rmsle_rt2))\n",
        "print(\"3\\t\\t{0:.4f}\\t{1:.4f}\\t{2:.4f}\\t{3:.4f}\".format(r2_rt3,rmse_rt3,mae_rt3,rmsle_rt3))\n",
        "print(\"4\\t\\t{0:.4f}\\t{1:.4f}\\t{2:.4f}\\t{3:.4f}\".format(r2_rt4,rmse_rt4,mae_rt4,rmsle_rt4))"
      ],
      "metadata": {
        "colab": {
          "base_uri": "https://localhost:8080/"
        },
        "id": "Xs1DQU5KkNdM",
        "outputId": "e30ed5e2-680b-4a5f-f6a2-0c7541083397"
      },
      "execution_count": null,
      "outputs": [
        {
          "output_type": "stream",
          "name": "stdout",
          "text": [
            "Evaluating Random forest with different random state:\n",
            "\n",
            "random_state\tR^2\tRMSE\tMAE\tRMSLE\n",
            "2\t\t0.8893\t16.3464\t6.7304\t0.1053\n",
            "3\t\t0.8869\t16.5247\t6.9187\t0.1069\n",
            "4\t\t0.8879\t16.4501\t6.8447\t0.1056\n"
          ]
        }
      ]
    },
    {
      "cell_type": "markdown",
      "source": [
        "Randrom forest with randrom_state 2 gives best performance"
      ],
      "metadata": {
        "id": "9jdALhxpl4js"
      }
    },
    {
      "cell_type": "code",
      "source": [
        "from sklearn.model_selection import cross_val_score\n",
        "from sklearn.preprocessing import StandardScaler\n",
        "sc_x = StandardScaler()\n",
        "fs = sc_x.fit_transform(feature_set)\n",
        "cvs = cross_val_score(mreg,fs,y1,cv=20)\n",
        "print(\"Accuracy: %0.2f (+/- %0.2f)\" % (cvs.mean(), cvs.std() * 2))"
      ],
      "metadata": {
        "colab": {
          "base_uri": "https://localhost:8080/"
        },
        "id": "HstG0y25v_n-",
        "outputId": "fcd73ac2-33de-43bc-8f7d-af9bb5980448"
      },
      "execution_count": null,
      "outputs": [
        {
          "output_type": "stream",
          "name": "stdout",
          "text": [
            "Accuracy: 0.26 (+/- 1.74)\n"
          ]
        }
      ]
    },
    {
      "cell_type": "code",
      "source": [
        "mlr_ytp_rmse = sqrt(metrics.mean_squared_error(y_train, reg.predict(x_train)))\n",
        "mlr_ytp_mae = metrics.mean_absolute_error(y_train, reg.predict(x_train))\n",
        "mlr_ytp_r2 = metrics.r2_score(y_train, reg.predict(x_train))\n",
        "m1 = reg.predict(x_train)\n",
        "mlr_ytp_rmsle = rmsle(y_train, m1)\n",
        "\n",
        "\n",
        "\n",
        "pr_ytp_rmse = sqrt(metrics.mean_squared_error(y_train, preg.predict(poly_reg.fit_transform(x_train))))\n",
        "pr_ytp_mae = metrics.mean_absolute_error(y_train, preg.predict(poly_reg.fit_transform(x_train)))\n",
        "pr_ytp_r2 = metrics.r2_score(y_train, preg.predict(poly_reg.fit_transform(x_train)))\n",
        "pr_ytp_rmsle = rmsle(y_train, preg.predict(poly_reg.fit_transform(x_train)))\n",
        "\n",
        "dt_ytp_rmse = sqrt(metrics.mean_squared_error(y_train, dec_tree.predict(x_train)))\n",
        "dt_ytp_mae = metrics.mean_absolute_error(y_train, dec_tree.predict(x_train))\n",
        "dt_ytp_r2 = metrics.r2_score(y_train, dec_tree.predict(x_train))\n",
        "dt_ytp_rmsle = rmsle(y_train, dec_tree.predict(x_train))\n",
        "\n",
        "rf_ytp_rmse = sqrt(metrics.mean_squared_error(y_train, rt_reg.predict(x_train)))\n",
        "rf_ytp_mae = metrics.mean_absolute_error(y_train, rt_reg.predict(x_train))\n",
        "rf_ytp_r2 = metrics.r2_score(y_train, rt_reg.predict(x_train))\n",
        "rf_ytp_rmsle = rmsle(y_train, rt_reg.predict(x_train))\n"
      ],
      "metadata": {
        "id": "oaPGE5FwwjSq"
      },
      "execution_count": null,
      "outputs": []
    },
    {
      "cell_type": "code",
      "source": [
        "print(\"Evaluating on training data:\\n\")\n",
        "print(\"models\\tR^2\\tRMSE\\tMAE\\tRMSLE\")\n",
        "print(\"MLR\\t{0:.4f}\\t{1:.4f}\\t{2:.4f}\\t{3:.4f}\".format(mlr_ytp_r2,mlr_ytp_rmse,mlr_ytp_mae,mlr_ytp_rmsle))\n",
        "print(\"PR\\t{0:.2f}\\t{1:.2f}\\t{2:.3f}\\t{3:.4f}\".format(pr_ytp_r2,pr_ytp_rmse,pr_ytp_mae,pr_ytp_rmsle))\n",
        "print(\"DTR\\t{0:.4f}\\t{1:.4f}\\t{2:.4f}\\t{3:.4f}\".format(dt_ytp_r2,dt_ytp_rmse,dt_ytp_mae,dt_ytp_rmsle))\n",
        "print(\"RFR\\t{0:.4f}\\t{1:.4f}\\t{2:.4f}\\t{3:.4f}\".format(rf_ytp_r2,rf_ytp_rmse,rf_ytp_mae,rf_ytp_rmsle))\n",
        "\n",
        "\n",
        "print(\"\\nEvaluating on testing data:\\n\")\n",
        "print(\"models\\tR^2\\tRMSE\\tMAE\\tRMSLE\")\n",
        "print(\"MLR\\t{0:.4f}\\t{1:.4f}\\t{2:.4f}\\t{3:.4f}\".format(r2_mlr,rmse_mlr,mae_mlr,rmsle_mlr))\n",
        "print(\"PR\\t{0:.2f}\\t{1:.2f}\\t{2:.3f}\\t{3:.4f}\".format(r2_pr2,rmse_pr2,mae_pr2,rmsle_pr2))\n",
        "print(\"DTR\\t{0:.4f}\\t{1:.4f}\\t{2:.4f}\\t{3:.4f}\".format(r2_dt2,rmse_dt2,mae_dt2,rmsle_dt2))\n",
        "print(\"RFR\\t{0:.4f}\\t{1:.4f}\\t{2:.4f}\\t{3:.4f}\".format(r2_rt2,rmse_rt2,mae_rt2,rmsle_rt2))\n",
        "\n"
      ],
      "metadata": {
        "colab": {
          "base_uri": "https://localhost:8080/"
        },
        "id": "j7GG7Ynrwmz5",
        "outputId": "648ce7d2-e4c9-42b2-81da-e8b89b15d340"
      },
      "execution_count": null,
      "outputs": [
        {
          "output_type": "stream",
          "name": "stdout",
          "text": [
            "Evaluating on training data:\n",
            "\n",
            "models\tR^2\tRMSE\tMAE\tRMSLE\n",
            "MLR\t0.8947\t12.9870\t8.4804\t0.1363\n",
            "PR\t1.00\t0.37\t0.208\t0.0056\n",
            "DTR\t1.0000\t0.0000\t0.0000\t0.0000\n",
            "RFR\t0.9920\t3.5775\t1.8778\t0.0329\n",
            "\n",
            "Evaluating on testing data:\n",
            "\n",
            "models\tR^2\tRMSE\tMAE\tRMSLE\n",
            "MLR\t0.7964\t22.1744\t11.6552\t0.1763\n",
            "PR\t0.77\t23.53\t15.400\t0.3185\n",
            "DTR\t0.8659\t17.9981\t8.1467\t0.1502\n",
            "RFR\t0.8893\t16.3464\t6.7304\t0.1053\n"
          ]
        }
      ]
    }
  ]
}