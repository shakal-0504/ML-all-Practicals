{
  "nbformat": 4,
  "nbformat_minor": 0,
  "metadata": {
    "colab": {
      "provenance": []
    },
    "kernelspec": {
      "name": "python3",
      "display_name": "Python 3"
    },
    "language_info": {
      "name": "python"
    }
  },
  "cells": [
    {
      "cell_type": "code",
      "execution_count": null,
      "metadata": {
        "colab": {
          "base_uri": "https://localhost:8080/"
        },
        "id": "iMWguwf13nNu",
        "outputId": "db8b72a0-451a-4ed0-c3f2-347040f83e33"
      },
      "outputs": [
        {
          "output_type": "stream",
          "name": "stdout",
          "text": [
            "Confusion Matrix \n",
            " [[3 1]\n",
            " [2 4]]\n",
            "Report\n",
            "               precision    recall  f1-score   support\n",
            "\n",
            "           0       0.60      0.75      0.67         4\n",
            "           1       0.80      0.67      0.73         6\n",
            "\n",
            "    accuracy                           0.70        10\n",
            "   macro avg       0.70      0.71      0.70        10\n",
            "weighted avg       0.72      0.70      0.70        10\n",
            "\n"
          ]
        }
      ],
      "source": [
        "from sklearn.metrics import confusion_matrix\n",
        "from sklearn.metrics import classification_report\n",
        "A=[1,1,0,1,1,0,0,1,0,1]\n",
        "P=[1,0,1,1,0,0,0,1,0,0]\n",
        "matrix=confusion_matrix(A,P) #instance of confusion matrix \n",
        "print('Confusion Matrix \\n',matrix) #matrix \n",
        "\n",
        "Labels_Classification=classification_report(A,P)\n",
        "print(\"Report\\n\", Labels_Classification) #evaluation matrix based on confusion matrix \n"
      ]
    }
  ]
}